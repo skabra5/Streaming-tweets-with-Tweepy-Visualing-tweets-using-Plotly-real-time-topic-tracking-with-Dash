{
  "nbformat": 4,
  "nbformat_minor": 0,
  "metadata": {
    "colab": {
      "name": "DashApp1.ipynb",
      "provenance": [],
      "collapsed_sections": [],
      "authorship_tag": "ABX9TyNvIPUTQG7tc6kNR2K+sNkT",
      "include_colab_link": true
    },
    "kernelspec": {
      "name": "python3",
      "display_name": "Python 3"
    }
  },
  "cells": [
    {
      "cell_type": "markdown",
      "metadata": {
        "id": "view-in-github",
        "colab_type": "text"
      },
      "source": [
        "<a href=\"https://colab.research.google.com/github/skabra5/Streaming-tweets-with-Tweepy-Visualing-tweets-using-Plotly-real-time-topic-tracking-with-Dash/blob/master/DashApp1.ipynb\" target=\"_parent\"><img src=\"https://colab.research.google.com/assets/colab-badge.svg\" alt=\"Open In Colab\"/></a>"
      ]
    },
    {
      "cell_type": "code",
      "metadata": {
        "id": "HXAGkP_cqLe7",
        "colab_type": "code",
        "colab": {}
      },
      "source": [
        "import os"
      ],
      "execution_count": 0,
      "outputs": []
    },
    {
      "cell_type": "code",
      "metadata": {
        "id": "XvSIMchqqB3n",
        "colab_type": "code",
        "colab": {}
      },
      "source": [
        "os.chdir(\"/content/drive/My Drive/Colab Notebooks/TwitterDash\")"
      ],
      "execution_count": 0,
      "outputs": []
    },
    {
      "cell_type": "code",
      "metadata": {
        "id": "RB9AbzTviwDs",
        "colab_type": "code",
        "outputId": "ffc5c2d2-bc06-494c-aadf-9bec65fc6952",
        "colab": {
          "base_uri": "https://localhost:8080/",
          "height": 302
        }
      },
      "source": [
        "!pip install dash dash-renderer dash-html-components dash-core-components plotly"
      ],
      "execution_count": 1,
      "outputs": [
        {
          "output_type": "stream",
          "text": [
            "Requirement already satisfied: dash in /usr/local/lib/python3.6/dist-packages (1.12.0)\n",
            "Requirement already satisfied: dash-renderer in /usr/local/lib/python3.6/dist-packages (1.4.1)\n",
            "Requirement already satisfied: dash-html-components in /usr/local/lib/python3.6/dist-packages (1.0.3)\n",
            "Requirement already satisfied: dash-core-components in /usr/local/lib/python3.6/dist-packages (1.10.0)\n",
            "Requirement already satisfied: plotly in /usr/local/lib/python3.6/dist-packages (4.4.1)\n",
            "Requirement already satisfied: Flask>=1.0.2 in /usr/local/lib/python3.6/dist-packages (from dash) (1.1.2)\n",
            "Requirement already satisfied: future in /usr/local/lib/python3.6/dist-packages (from dash) (0.16.0)\n",
            "Requirement already satisfied: dash-table==4.7.0 in /usr/local/lib/python3.6/dist-packages (from dash) (4.7.0)\n",
            "Requirement already satisfied: flask-compress in /usr/local/lib/python3.6/dist-packages (from dash) (1.5.0)\n",
            "Requirement already satisfied: retrying>=1.3.3 in /usr/local/lib/python3.6/dist-packages (from plotly) (1.3.3)\n",
            "Requirement already satisfied: six in /usr/local/lib/python3.6/dist-packages (from plotly) (1.12.0)\n",
            "Requirement already satisfied: click>=5.1 in /usr/local/lib/python3.6/dist-packages (from Flask>=1.0.2->dash) (7.1.2)\n",
            "Requirement already satisfied: itsdangerous>=0.24 in /usr/local/lib/python3.6/dist-packages (from Flask>=1.0.2->dash) (1.1.0)\n",
            "Requirement already satisfied: Werkzeug>=0.15 in /usr/local/lib/python3.6/dist-packages (from Flask>=1.0.2->dash) (1.0.1)\n",
            "Requirement already satisfied: Jinja2>=2.10.1 in /usr/local/lib/python3.6/dist-packages (from Flask>=1.0.2->dash) (2.11.2)\n",
            "Requirement already satisfied: brotli in /usr/local/lib/python3.6/dist-packages (from flask-compress->dash) (1.0.7)\n",
            "Requirement already satisfied: MarkupSafe>=0.23 in /usr/local/lib/python3.6/dist-packages (from Jinja2>=2.10.1->Flask>=1.0.2->dash) (1.1.1)\n"
          ],
          "name": "stdout"
        }
      ]
    },
    {
      "cell_type": "code",
      "metadata": {
        "id": "iktSk9G8o5de",
        "colab_type": "code",
        "outputId": "9dda5cec-7e47-45d7-b9da-3e8f623c4ac3",
        "colab": {
          "base_uri": "https://localhost:8080/",
          "height": 171
        }
      },
      "source": [
        "import dash\n",
        "import dash_core_components as dcc\n",
        "import dash_html_components as html\n",
        "from dash.dependencies import Output, Input, State\n",
        "import pandas as pd\n",
        "import plotly.graph_objs as go\n",
        "from django.conf import settings\n",
        "import itertools\n",
        "import math\n",
        "import base64\n",
        "from flask import Flask\n",
        "import os\n",
        "import psycopg2\n",
        "import datetime\n",
        "import plotly\n",
        "import random\n",
        "from collections import deque\n",
        " \n",
        "import re\n",
        "import nltk\n",
        "nltk.download('punkt')\n",
        "nltk.download('stopwords')\n",
        "from nltk.probability import FreqDist\n",
        "from nltk.tokenize import word_tokenize\n",
        "from nltk.corpus import stopwords\n",
        "from textblob import TextBlob\n",
        "import sqlite3\n",
        "\n"
      ],
      "execution_count": 2,
      "outputs": [
        {
          "output_type": "stream",
          "text": [
            "/usr/local/lib/python3.6/dist-packages/psycopg2/__init__.py:144: UserWarning:\n",
            "\n",
            "The psycopg2 wheel package will be renamed from release 2.8; in order to keep installing from binary please use \"pip install psycopg2-binary\" instead. For details see: <http://initd.org/psycopg/docs/install.html#binary-install-from-pypi>.\n",
            "\n"
          ],
          "name": "stderr"
        },
        {
          "output_type": "stream",
          "text": [
            "[nltk_data] Downloading package punkt to /root/nltk_data...\n",
            "[nltk_data]   Package punkt is already up-to-date!\n",
            "[nltk_data] Downloading package stopwords to /root/nltk_data...\n",
            "[nltk_data]   Package stopwords is already up-to-date!\n"
          ],
          "name": "stdout"
        }
      ]
    },
    {
      "cell_type": "code",
      "metadata": {
        "id": "-XgHl7rzbP2_",
        "colab_type": "code",
        "outputId": "48e712af-d606-4689-f1db-7589c7be73fc",
        "colab": {
          "base_uri": "https://localhost:8080/",
          "height": 252
        }
      },
      "source": [
        "### Install ngrok\n",
        "!wget https://bin.equinox.io/c/4VmDzA7iaHb/ngrok-stable-linux-amd64.zip\n",
        "!unzip ngrok-stable-linux-amd64.zip\n",
        "\n",
        "### Run ngrok to tunnel Dash app port 8050 to the outside world. \n",
        "### This command runs in the background.\n",
        "get_ipython().system_raw('./ngrok http 8050 &')\n",
        "\n",
        "### Get the public URL where you can access the Dash app. Copy this URL.\n",
        "! curl -s http://localhost:4040/api/tunnels | python3 -c \\\n",
        "    \"import sys, json; print(json.load(sys.stdin)['tunnels'][0]['public_url'])\"\n"
      ],
      "execution_count": 1,
      "outputs": [
        {
          "output_type": "stream",
          "text": [
            "--2020-06-10 07:04:43--  https://bin.equinox.io/c/4VmDzA7iaHb/ngrok-stable-linux-amd64.zip\n",
            "Resolving bin.equinox.io (bin.equinox.io)... 34.201.248.214, 35.175.20.97, 34.238.5.126, ...\n",
            "Connecting to bin.equinox.io (bin.equinox.io)|34.201.248.214|:443... connected.\n",
            "HTTP request sent, awaiting response... 200 OK\n",
            "Length: 13773305 (13M) [application/octet-stream]\n",
            "Saving to: ‘ngrok-stable-linux-amd64.zip’\n",
            "\n",
            "ngrok-stable-linux- 100%[===================>]  13.13M  17.9MB/s    in 0.7s    \n",
            "\n",
            "2020-06-10 07:04:44 (17.9 MB/s) - ‘ngrok-stable-linux-amd64.zip’ saved [13773305/13773305]\n",
            "\n",
            "Archive:  ngrok-stable-linux-amd64.zip\n",
            "  inflating: ngrok                   \n",
            "http://281021dc10ad.ngrok.io\n"
          ],
          "name": "stdout"
        }
      ]
    },
    {
      "cell_type": "code",
      "metadata": {
        "id": "8Q7ZYFdQ8XM3",
        "colab_type": "code",
        "colab": {
          "base_uri": "https://localhost:8080/",
          "height": 34
        },
        "outputId": "9a32f7a1-1fe9-4c91-945c-8d0023e6537e"
      },
      "source": [
        "%%writefile app.py\n",
        "import dash\n",
        "from dash.dependencies import Output, Input\n",
        "import dash_core_components as dcc\n",
        "import dash_html_components as html\n",
        "import plotly\n",
        "import random\n",
        "import plotly.graph_objs as go\n",
        "from collections import deque\n",
        "import sqlite3\n",
        "import pandas as pd\n",
        "import time\n",
        "import os\n",
        "\n",
        "#popular topics: google, olympics, trump, gun, usa\n",
        "\n",
        "\n",
        "external_stylesheets = ['https://codepen.io/chriddyp/pen/bWLwgP.css']\n",
        "\n",
        "app = dash.Dash(__name__, external_stylesheets=external_stylesheets)\n",
        "app.scripts.config.serve_locally = True\n",
        "app.title = \"Real-time-twitter-monitor\"\n",
        "\n",
        "app.layout = html.Div(\n",
        "    [   html.H2('Live Twitter Sentiment'),\n",
        "        dcc.Input(id='sentiment_term', value='olympic', type='text'),\n",
        "        dcc.Graph(id='live-update-graph', animate=False),\n",
        "        dcc.Interval(\n",
        "            id='interval-component-slow',\n",
        "            interval=1*1000,\n",
        "            n_intervals=0\n",
        "        ),\n",
        "\n",
        "    ]\n",
        ")\n",
        "\n",
        "@app.callback(Output('live-update-graph', 'figure'), [Input('sentiment_term',\"value\"), Input('interval-component-slow', 'n_intervals')])\n",
        "def update_graph_scatter(sentiment_term):\n",
        "  try:\n",
        "    conn = sqlite3.connect('/content/twitter.db')\n",
        "    c = conn.cursor()\n",
        "    df = pd.read_sql(\"SELECT * FROM sentiment WHERE tweet LIKE ? ORDER BY unix DESC LIMIT 1000\", conn ,params=('%' + sentiment_term + '%',))\n",
        "    df.sort_values('unix', inplace=True)\n",
        "    df['sentiment_smoothed'] = df['polarity'].rolling(int(len(df)/2)).mean()\n",
        "\n",
        "    df['date'] = pd.to_datetime(df['unix'],unit='ms')\n",
        "    df.set_index('date', inplace=True)\n",
        "\n",
        "    df = df.resample('1min').mean()\n",
        "    df.dropna(inplace=True)\n",
        "\n",
        "    X = df.unix.values[-100:]\n",
        "    Y = df.sentiment_smoothed.values[-100:]\n",
        "\n",
        "    data = plotly.graph_objs.Scatter(\n",
        "            x=X,\n",
        "            y=Y,\n",
        "            name='Scatter',\n",
        "            mode= 'lines+markers'\n",
        "            )\n",
        "\n",
        "    return {'data': [data],'layout' : go.Layout(xaxis=dict(range=[min(X),max(X)]),yaxis=dict(range=[min(Y),max(Y)]),title='Term: {}'.format(sentiment_term))}\n",
        "\n",
        "  except Exception as e:\n",
        "    with open('errors.txt','a') as f:\n",
        "      f.write(str(e))\n",
        "      f.write('\\n')\n",
        "\n",
        "if __name__ == '__main__':\n",
        "    app.run_server(debug=True)"
      ],
      "execution_count": 2,
      "outputs": [
        {
          "output_type": "stream",
          "text": [
            "Overwriting app.py\n"
          ],
          "name": "stdout"
        }
      ]
    },
    {
      "cell_type": "code",
      "metadata": {
        "id": "1ymPuoSY8u8D",
        "colab_type": "code",
        "colab": {
          "base_uri": "https://localhost:8080/",
          "height": 168
        },
        "outputId": "e0a52beb-186b-4afc-f89f-f6709159bda8"
      },
      "source": [
        "!python app.py"
      ],
      "execution_count": 3,
      "outputs": [
        {
          "output_type": "stream",
          "text": [
            "Running on http://127.0.0.1:8050/\n",
            "Debugger PIN: 137-148-803\n",
            " * Serving Flask app \"app\" (lazy loading)\n",
            " * Environment: production\n",
            "\u001b[31m   WARNING: This is a development server. Do not use it in a production deployment.\u001b[0m\n",
            "\u001b[2m   Use a production WSGI server instead.\u001b[0m\n",
            " * Debug mode: on\n",
            "Running on http://127.0.0.1:8050/\n",
            "Debugger PIN: 244-471-906\n"
          ],
          "name": "stdout"
        }
      ]
    }
  ]
}