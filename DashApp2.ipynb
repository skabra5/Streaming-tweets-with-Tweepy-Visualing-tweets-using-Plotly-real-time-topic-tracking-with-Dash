{
  "nbformat": 4,
  "nbformat_minor": 0,
  "metadata": {
    "colab": {
      "name": "DashApp2.ipynb",
      "provenance": [],
      "collapsed_sections": [],
      "authorship_tag": "ABX9TyMtXcmHu8/0ckMKeZFGUjhH",
      "include_colab_link": true
    },
    "kernelspec": {
      "name": "python3",
      "display_name": "Python 3"
    }
  },
  "cells": [
    {
      "cell_type": "markdown",
      "metadata": {
        "id": "view-in-github",
        "colab_type": "text"
      },
      "source": [
        "<a href=\"https://colab.research.google.com/github/skabra5/Streaming-tweets-with-Tweepy-Visualing-tweets-using-Plotly-real-time-topic-tracking-with-Dash/blob/master/DashApp2.ipynb\" target=\"_parent\"><img src=\"https://colab.research.google.com/assets/colab-badge.svg\" alt=\"Open In Colab\"/></a>"
      ]
    },
    {
      "cell_type": "code",
      "metadata": {
        "id": "HXAGkP_cqLe7",
        "colab_type": "code",
        "colab": {}
      },
      "source": [
        "import os"
      ],
      "execution_count": 0,
      "outputs": []
    },
    {
      "cell_type": "code",
      "metadata": {
        "id": "XvSIMchqqB3n",
        "colab_type": "code",
        "colab": {}
      },
      "source": [
        "os.chdir(\"/content/drive/My Drive/Colab Notebooks/TwitterDash\")"
      ],
      "execution_count": 0,
      "outputs": []
    },
    {
      "cell_type": "code",
      "metadata": {
        "id": "RB9AbzTviwDs",
        "colab_type": "code",
        "outputId": "6c9b41f3-2dac-437f-cbd1-5e0afa40ba6d",
        "colab": {
          "base_uri": "https://localhost:8080/",
          "height": 910
        }
      },
      "source": [
        "!pip install dash dash-renderer dash-html-components dash-core-components plotly"
      ],
      "execution_count": 1,
      "outputs": [
        {
          "output_type": "stream",
          "text": [
            "Collecting dash\n",
            "\u001b[?25l  Downloading https://files.pythonhosted.org/packages/d0/48/7a564cdbecdca653c9cb135c5be52c98d855ac13e305094450d7ecac5d89/dash-1.12.0.tar.gz (66kB)\n",
            "\u001b[K     |████████████████████████████████| 71kB 3.1MB/s \n",
            "\u001b[?25hCollecting dash-renderer\n",
            "\u001b[?25l  Downloading https://files.pythonhosted.org/packages/8e/51/45aa6e4caa3f426ac48b153ecf0fe371368aae46e3ea902c8317f630489a/dash_renderer-1.4.1.tar.gz (1.2MB)\n",
            "\u001b[K     |████████████████████████████████| 1.2MB 14.1MB/s \n",
            "\u001b[?25hCollecting dash-html-components\n",
            "\u001b[?25l  Downloading https://files.pythonhosted.org/packages/da/20/46714ae501ccf16e5e37ca160c06e27347d19889687454168730e6744cdc/dash_html_components-1.0.3.tar.gz (187kB)\n",
            "\u001b[K     |████████████████████████████████| 194kB 44.1MB/s \n",
            "\u001b[?25hCollecting dash-core-components\n",
            "\u001b[?25l  Downloading https://files.pythonhosted.org/packages/4e/94/a170d86934cd845c4cb881e8156c79459702783716ea6d92849805127204/dash_core_components-1.10.0.tar.gz (3.4MB)\n",
            "\u001b[K     |████████████████████████████████| 3.4MB 32.4MB/s \n",
            "\u001b[?25hRequirement already satisfied: plotly in /usr/local/lib/python3.6/dist-packages (4.4.1)\n",
            "Requirement already satisfied: Flask>=1.0.2 in /usr/local/lib/python3.6/dist-packages (from dash) (1.1.2)\n",
            "Collecting flask-compress\n",
            "  Downloading https://files.pythonhosted.org/packages/a0/96/cd684c1ffe97b513303b5bfd4bbfb4114c5f4a5ea8a737af6fd813273df8/Flask-Compress-1.5.0.tar.gz\n",
            "Collecting dash-table==4.7.0\n",
            "\u001b[?25l  Downloading https://files.pythonhosted.org/packages/96/aa/e508295638f3d4342b8798d16931a8b353ff48e03d9d99c788f34ddac110/dash_table-4.7.0.tar.gz (1.8MB)\n",
            "\u001b[K     |████████████████████████████████| 1.8MB 49.4MB/s \n",
            "\u001b[?25hRequirement already satisfied: future in /usr/local/lib/python3.6/dist-packages (from dash) (0.16.0)\n",
            "Requirement already satisfied: six in /usr/local/lib/python3.6/dist-packages (from plotly) (1.12.0)\n",
            "Requirement already satisfied: retrying>=1.3.3 in /usr/local/lib/python3.6/dist-packages (from plotly) (1.3.3)\n",
            "Requirement already satisfied: Werkzeug>=0.15 in /usr/local/lib/python3.6/dist-packages (from Flask>=1.0.2->dash) (1.0.1)\n",
            "Requirement already satisfied: itsdangerous>=0.24 in /usr/local/lib/python3.6/dist-packages (from Flask>=1.0.2->dash) (1.1.0)\n",
            "Requirement already satisfied: click>=5.1 in /usr/local/lib/python3.6/dist-packages (from Flask>=1.0.2->dash) (7.1.2)\n",
            "Requirement already satisfied: Jinja2>=2.10.1 in /usr/local/lib/python3.6/dist-packages (from Flask>=1.0.2->dash) (2.11.2)\n",
            "Collecting brotli\n",
            "\u001b[?25l  Downloading https://files.pythonhosted.org/packages/f4/68/60a220454dc5083c6d59b41aa90bb1c96fad62a0abf3a33e0ef64b38638a/Brotli-1.0.7-cp36-cp36m-manylinux1_x86_64.whl (352kB)\n",
            "\u001b[K     |████████████████████████████████| 358kB 28.6MB/s \n",
            "\u001b[?25hRequirement already satisfied: MarkupSafe>=0.23 in /usr/local/lib/python3.6/dist-packages (from Jinja2>=2.10.1->Flask>=1.0.2->dash) (1.1.1)\n",
            "Building wheels for collected packages: dash, dash-renderer, dash-html-components, dash-core-components, flask-compress, dash-table\n",
            "  Building wheel for dash (setup.py) ... \u001b[?25l\u001b[?25hdone\n",
            "  Created wheel for dash: filename=dash-1.12.0-cp36-none-any.whl size=73892 sha256=87bd261b88b0819cf44c95bc2a19b07eab1b71aea3ece8512d51f7fe0c5d48f1\n",
            "  Stored in directory: /root/.cache/pip/wheels/2e/bc/dd/b4ebecb434c90eff7c5475efc10b72aad5a899c01fa87e2647\n",
            "  Building wheel for dash-renderer (setup.py) ... \u001b[?25l\u001b[?25hdone\n",
            "  Created wheel for dash-renderer: filename=dash_renderer-1.4.1-cp36-none-any.whl size=1165597 sha256=0c49f28d0ab0e836ee4cd1065d4815f03df3c3356fad006ed963fc42f825aaa4\n",
            "  Stored in directory: /root/.cache/pip/wheels/be/9e/83/c6531c3fdd6dba27156e7196c273148d850c97bda396fec7d0\n",
            "  Building wheel for dash-html-components (setup.py) ... \u001b[?25l\u001b[?25hdone\n",
            "  Created wheel for dash-html-components: filename=dash_html_components-1.0.3-cp36-none-any.whl size=427303 sha256=a5e73910eaca2a5dc5e93faa09b4441548e62b2e868f98f5d8ba77229265988b\n",
            "  Stored in directory: /root/.cache/pip/wheels/22/c0/79/ef4c2b20a23dc8457ae75c3da5f63163db213d86e13e00fe26\n",
            "  Building wheel for dash-core-components (setup.py) ... \u001b[?25l\u001b[?25hdone\n",
            "  Created wheel for dash-core-components: filename=dash_core_components-1.10.0-cp36-none-any.whl size=3454754 sha256=e3c537108b6448b0fe0c38993181f568e8ac853ec782292ff83078eaaab4d689\n",
            "  Stored in directory: /root/.cache/pip/wheels/61/5c/e3/0958785022517a2e5934e7b5167a8f824f79c96a5e440bd622\n",
            "  Building wheel for flask-compress (setup.py) ... \u001b[?25l\u001b[?25hdone\n",
            "  Created wheel for flask-compress: filename=Flask_Compress-1.5.0-cp36-none-any.whl size=5273 sha256=2b366db4bfbca39dc3c920237313617ec2a82a88c7ec6c9db4fc1abdd41f956a\n",
            "  Stored in directory: /root/.cache/pip/wheels/f7/e9/e4/5afc286be7c87461375e33152558415dfeb0c8f5af3b50e742\n",
            "  Building wheel for dash-table (setup.py) ... \u001b[?25l\u001b[?25hdone\n",
            "  Created wheel for dash-table: filename=dash_table-4.7.0-cp36-none-any.whl size=1777561 sha256=e6a05ceedb8685c347344e4e642a533d540abca43d03a45e6f1fca316a3df812\n",
            "  Stored in directory: /root/.cache/pip/wheels/de/59/d5/9da253860a20edebff16497d01b703d2a8db97130c5bd86fbf\n",
            "Successfully built dash dash-renderer dash-html-components dash-core-components flask-compress dash-table\n",
            "Installing collected packages: brotli, flask-compress, dash-renderer, dash-core-components, dash-html-components, dash-table, dash\n",
            "Successfully installed brotli-1.0.7 dash-1.12.0 dash-core-components-1.10.0 dash-html-components-1.0.3 dash-renderer-1.4.1 dash-table-4.7.0 flask-compress-1.5.0\n"
          ],
          "name": "stdout"
        }
      ]
    },
    {
      "cell_type": "code",
      "metadata": {
        "id": "iktSk9G8o5de",
        "colab_type": "code",
        "outputId": "4e28b642-57c4-4824-d98d-808005e9fd98",
        "colab": {
          "base_uri": "https://localhost:8080/",
          "height": 171
        }
      },
      "source": [
        "import dash\n",
        "import dash_core_components as dcc\n",
        "import dash_html_components as html\n",
        "from dash.dependencies import Output, Input, State\n",
        "import pandas as pd\n",
        "import plotly.graph_objs as go\n",
        "from django.conf import settings\n",
        "import itertools\n",
        "import math\n",
        "import base64\n",
        "from flask import Flask\n",
        "import os\n",
        "import psycopg2\n",
        "import datetime\n",
        "import plotly\n",
        "import random\n",
        "from collections import deque\n",
        " \n",
        "import re\n",
        "import nltk\n",
        "nltk.download('punkt')\n",
        "nltk.download('stopwords')\n",
        "from nltk.probability import FreqDist\n",
        "from nltk.tokenize import word_tokenize\n",
        "from nltk.corpus import stopwords\n",
        "from textblob import TextBlob\n",
        "import sqlite3\n",
        "\n"
      ],
      "execution_count": 2,
      "outputs": [
        {
          "output_type": "stream",
          "text": [
            "/usr/local/lib/python3.6/dist-packages/psycopg2/__init__.py:144: UserWarning:\n",
            "\n",
            "The psycopg2 wheel package will be renamed from release 2.8; in order to keep installing from binary please use \"pip install psycopg2-binary\" instead. For details see: <http://initd.org/psycopg/docs/install.html#binary-install-from-pypi>.\n",
            "\n"
          ],
          "name": "stderr"
        },
        {
          "output_type": "stream",
          "text": [
            "[nltk_data] Downloading package punkt to /root/nltk_data...\n",
            "[nltk_data]   Unzipping tokenizers/punkt.zip.\n",
            "[nltk_data] Downloading package stopwords to /root/nltk_data...\n",
            "[nltk_data]   Unzipping corpora/stopwords.zip.\n"
          ],
          "name": "stdout"
        }
      ]
    },
    {
      "cell_type": "code",
      "metadata": {
        "id": "-XgHl7rzbP2_",
        "colab_type": "code",
        "outputId": "b431bd67-f91e-4ad1-ac30-c66c13af8ebf",
        "colab": {
          "base_uri": "https://localhost:8080/",
          "height": 252
        }
      },
      "source": [
        "### Install ngrok\n",
        "!wget https://bin.equinox.io/c/4VmDzA7iaHb/ngrok-stable-linux-amd64.zip\n",
        "!unzip ngrok-stable-linux-amd64.zip\n",
        "\n",
        "### Run ngrok to tunnel Dash app port 8050 to the outside world. \n",
        "### This command runs in the background.\n",
        "get_ipython().system_raw('./ngrok http 8050 &')\n",
        "\n",
        "### Get the public URL where you can access the Dash app. Copy this URL.\n",
        "! curl -s http://localhost:4040/api/tunnels | python3 -c \\\n",
        "    \"import sys, json; print(json.load(sys.stdin)['tunnels'][0]['public_url'])\"\n"
      ],
      "execution_count": 3,
      "outputs": [
        {
          "output_type": "stream",
          "text": [
            "--2020-06-10 07:07:44--  https://bin.equinox.io/c/4VmDzA7iaHb/ngrok-stable-linux-amd64.zip\n",
            "Resolving bin.equinox.io (bin.equinox.io)... 52.2.129.46, 34.238.5.126, 3.229.211.71, ...\n",
            "Connecting to bin.equinox.io (bin.equinox.io)|52.2.129.46|:443... connected.\n",
            "HTTP request sent, awaiting response... 200 OK\n",
            "Length: 13773305 (13M) [application/octet-stream]\n",
            "Saving to: ‘ngrok-stable-linux-amd64.zip’\n",
            "\n",
            "ngrok-stable-linux- 100%[===================>]  13.13M  18.5MB/s    in 0.7s    \n",
            "\n",
            "2020-06-10 07:07:45 (18.5 MB/s) - ‘ngrok-stable-linux-amd64.zip’ saved [13773305/13773305]\n",
            "\n",
            "Archive:  ngrok-stable-linux-amd64.zip\n",
            "  inflating: ngrok                   \n",
            "https://189ca5ca9281.ngrok.io\n"
          ],
          "name": "stdout"
        }
      ]
    },
    {
      "cell_type": "code",
      "metadata": {
        "id": "BDzS4BDx16Zu",
        "colab_type": "code",
        "outputId": "4f87e213-8a5a-41bb-f541-5617ee5f2ba5",
        "colab": {
          "base_uri": "https://localhost:8080/",
          "height": 134
        }
      },
      "source": [
        "from collections import deque, Counter\n",
        "# download nltk dependencies\n",
        "nltk.download('punkt')\n",
        "nltk.download('stopwords')\n",
        "nltk.download('wordnet')\n",
        "nltk.download('vader_lexicon')\n",
        "\n",
        "def bag_of_words(series):\n",
        "    \"\"\"\n",
        "    count the words in all the tweets\n",
        "    Parameters\n",
        "    ----------\n",
        "        seriers: pandas Series\n",
        "            the text column that contains the text of the tweets\n",
        "    Returns\n",
        "    -------\n",
        "        collections.Counter object\n",
        "            a dictionary with all the tokens and their number of apperances\n",
        "    \"\"\"\n",
        "\n",
        "    # merge the text from all the tweets into one document\n",
        "    document = ' '.join([row for row in series])\n",
        "\n",
        "    # lowercasing, tokenization, and keep only alphabetical tokens\n",
        "    tokens = [word for word in word_tokenize(document.lower()) if word.isalpha()]\n",
        "\n",
        "    # filtering out tokens that are not all alphabetical\n",
        "    tokens = [word for word in re.findall(r'[A-Za-z]+', ' '.join(tokens))]\n",
        "\n",
        "    # remove all stopwords\n",
        "    # stop words for the word-counts\n",
        "    stops = stopwords.words('english')\n",
        "    stops.append('https')\n",
        "    no_stop = [word for word in tokens if word not in stops]\n",
        "\n",
        "    return Counter(no_stop)"
      ],
      "execution_count": 4,
      "outputs": [
        {
          "output_type": "stream",
          "text": [
            "[nltk_data] Downloading package punkt to /root/nltk_data...\n",
            "[nltk_data]   Package punkt is already up-to-date!\n",
            "[nltk_data] Downloading package stopwords to /root/nltk_data...\n",
            "[nltk_data]   Package stopwords is already up-to-date!\n",
            "[nltk_data] Downloading package wordnet to /root/nltk_data...\n",
            "[nltk_data]   Unzipping corpora/wordnet.zip.\n",
            "[nltk_data] Downloading package vader_lexicon to /root/nltk_data...\n"
          ],
          "name": "stdout"
        }
      ]
    },
    {
      "cell_type": "code",
      "metadata": {
        "id": "ydeVIeP6rI_L",
        "colab_type": "code",
        "outputId": "7febcd00-7ab8-4177-dfe8-7f93c2f28f08",
        "colab": {
          "base_uri": "https://localhost:8080/",
          "height": 34
        }
      },
      "source": [
        "%%writefile xapp.py\n",
        "import os\n",
        "import dash\n",
        "import datetime\n",
        "import dash_core_components as dcc\n",
        "import dash_html_components as html\n",
        "# import pandas_datareader.data as web\n",
        "from dash.dependencies import Output, Input\n",
        "import plotly\n",
        "import random\n",
        "import plotly.graph_objs as go\n",
        "from collections import deque\n",
        "import sqlite3\n",
        "import pandas as pd\n",
        "\n",
        "#popular topics: google, olympics, trump, gun, usa\n",
        "\n",
        "# global refresh interval for the application, ms\n",
        "GRAPH_INTERVAL = os.environ.get(\"GRAPH_INTERVAL\", 2000)\n",
        "\n",
        "keywords_to_hear = ['#racism',\n",
        "                    '#blacklivesmatter',\n",
        "                    '#usa',\n",
        "                    ]\n",
        "\n",
        "# global color setting\n",
        "app_color = {\n",
        "    \"graph_bg\": \"rgb(221, 236, 255)\",\n",
        "    \"graph_line\": \"rgb(8, 70, 151)\",\n",
        "    \"graph_font\":\"rgb(2, 29, 65)\"\n",
        "}\n",
        "\n",
        "# colors for plots\n",
        "chart_colors = [\n",
        "    '#664DFF',\n",
        "    '#893BFF',\n",
        "    '#3CC5E8',\n",
        "    '#2C93E8',\n",
        "    '#0BEBDD',\n",
        "    '#0073FF',\n",
        "    '#00BDFF',\n",
        "    '#A5E82C',\n",
        "    '#FFBD42',\n",
        "    '#FFCA30'\n",
        "]\n",
        "\n",
        "# initialize x and y coordinates for scatter plot\n",
        "# use duque here to store the changing trend of number of tweets\n",
        "# X is the x-axis with time stamps\n",
        "X_universal = deque(maxlen=30)\n",
        "\n",
        "# the number of most frequently mentioned tags\n",
        "num_tags_scatter = 5\n",
        "\n",
        "# initalize a dictionary to store the number of tweets for each game\n",
        "scatter_dict = {}\n",
        "\n",
        "sentiment_dict = {}\n",
        "\n",
        "xapp = dash.Dash(__name__)\n",
        "\n",
        "xapp.layout = html.Div([\n",
        "                       html.H2(\"Real-time-Twitter-Streaming\", style={\"textAlign\": \"center\"}),\n",
        "                          html.H5(\"Last Update: June 08 2020\" , style = {\"textAlign\": \"right\"}),\n",
        "                              html.Div(\n",
        "                                  [dcc.Interval(\n",
        "                                        id=\"query_update\",\n",
        "                                        interval=int(GRAPH_INTERVAL),\n",
        "                                        n_intervals=0,),\n",
        "                                   html.Div(\n",
        "                                        [html.H6(\"WORD-COUNT TREND\", className=\"graph__title\")]\n",
        "                                   ),\n",
        "                                   html.Div([\n",
        "                                             html.P(\n",
        "                                            \"Total number of tweets streamed during last 60 seconds: 0\",\n",
        "                                            id=\"bin-size\",\n",
        "                                            className=\"auto__p\",\n",
        "                                        ),\n",
        "                                    ],\n",
        "                                    className=\"auto__container\",),\n",
        "                                    dcc.Graph(\n",
        "                                    id=\"number_of_tweets\", animate=False,\n",
        "                                    figure=go.Figure(\n",
        "                                      layout=go.Layout(\n",
        "                                        plot_bgcolor=app_color[\"graph_bg\"],\n",
        "                                          paper_bgcolor=app_color[\"graph_bg\"],\n",
        "\n",
        "                                      )\n",
        "                                    ),\n",
        "                                    ),       \n",
        "                               ],  className=\"two-thirds column number_of_tweets\",\n",
        ")])\n",
        "                              \n",
        "\n",
        "# define callback function for number_of_tweets scatter plot\n",
        "@xapp.callback(Output('number_of_tweets', 'figure'),[Input('query_update', 'n_intervals')])\n",
        "\n",
        "def update_graph_scatter(n):\n",
        "  \n",
        "  conn = sqlite3.connect('/content/drive/My Drive/Colab Notebooks/TwitterDash/mytwitter.db')\n",
        "\n",
        "  df = pd.read_sql_query(\"SELECT * from sentiment\", conn)\n",
        "  c = conn.cursor()\n",
        "\n",
        "  # # query tweets from the database\n",
        "  # df = get_tweet_data()\n",
        "\n",
        "  # get the number of tweets for each keyword\n",
        "  cnt = bag_of_words(df['tweet'])\n",
        "\n",
        "  # get the current time for x-axis\n",
        "  time = datetime.datetime.now().strftime('%D, %H:%M:%S')\n",
        "  X_universal.append(time)\n",
        "\n",
        "  to_pop = []\n",
        "  for keyword, cnt_queue in scatter_dict.items():\n",
        "      if cnt_queue:\n",
        "          while cnt_queue and (cnt_queue[0][1] < X_universal[0]):\n",
        "              cnt_queue.popleft()\n",
        "      else:\n",
        "          to_pop.append(keyword)\n",
        "      \n",
        "\n",
        "  for keyword in to_pop:\n",
        "      scatter_dict.pop(keyword)\n",
        "\n",
        "  top_N = cnt.most_common(num_tags_scatter)\n",
        "\n",
        "  for keyword, cnt in top_N:\n",
        "      if keyword not in scatter_dict:\n",
        "          scatter_dict[keyword] = deque(maxlen=30)\n",
        "          scatter_dict[keyword].append([cnt, time])\n",
        "      else:\n",
        "          scatter_dict[keyword].append([cnt, time])\n",
        "\n",
        "  new_colors = chart_colors[:len(scatter_dict)]\n",
        "\n",
        "  # plot the scatter plot\n",
        "  data=[go.Scatter(\n",
        "      x=[time for cnt, time in cnt_queue],\n",
        "      y=[cnt for cnt, time in cnt_queue],\n",
        "      name=keyword,\n",
        "      mode='lines+markers',\n",
        "      opacity=0.5,\n",
        "      marker=dict(\n",
        "          size=10,\n",
        "          color=color,\n",
        "      ),\n",
        "      line=dict(\n",
        "          width=6,\n",
        "          # dash='dash',\n",
        "          color=color,\n",
        "      )\n",
        "  ) for color, (keyword, cnt_queue) in list(zip(new_colors, scatter_dict.items()))]\n",
        "\n",
        "  # specify the layout\n",
        "  layout = go.Layout(\n",
        "          xaxis={\n",
        "              'automargin': False,\n",
        "              'range': [min(X_universal), max(X_universal)],\n",
        "              'title': 'Current Time (GMT)',\n",
        "              'nticks': 6\n",
        "          },\n",
        "          yaxis={\n",
        "              'type': 'log',\n",
        "              'autorange': True,\n",
        "              'title': 'Number of Tweets'\n",
        "          },\n",
        "          height=700,\n",
        "          plot_bgcolor=app_color[\"graph_bg\"],\n",
        "          paper_bgcolor=app_color[\"graph_bg\"],\n",
        "          font={\"color\": app_color[\"graph_font\"]},\n",
        "          autosize=False,\n",
        "          legend={\n",
        "              'orientation': 'h',\n",
        "              'xanchor': 'center',\n",
        "              'yanchor': 'top',\n",
        "              'x': 0.5,\n",
        "              'y': 1.025\n",
        "          },\n",
        "          margin=go.layout.Margin(\n",
        "              l=75,\n",
        "              r=25,\n",
        "              b=45,\n",
        "              t=25,\n",
        "              pad=4\n",
        "          ),\n",
        "      )\n",
        "\n",
        "  # return go.Figure(\n",
        "  #     data=data,\n",
        "  #     layout=layout,\n",
        "\n",
        "  return html.Div(dcc.Graph(id='number_of_tweets', figure=dict(data=data,layout=layout)))\n",
        "                           \n",
        "                        \n",
        "if __name__ == '__main__':\n",
        "    xapp.run_server(debug=True)"
      ],
      "execution_count": 5,
      "outputs": [
        {
          "output_type": "stream",
          "text": [
            "Writing xapp.py\n"
          ],
          "name": "stdout"
        }
      ]
    },
    {
      "cell_type": "code",
      "metadata": {
        "id": "MLdBmrxmwVKz",
        "colab_type": "code",
        "outputId": "24e2a69d-048c-45c2-f8e2-a25d55f38d37",
        "colab": {
          "base_uri": "https://localhost:8080/",
          "height": 168
        }
      },
      "source": [
        "!python xapp.py"
      ],
      "execution_count": 6,
      "outputs": [
        {
          "output_type": "stream",
          "text": [
            "Running on http://127.0.0.1:8050/\n",
            "Debugger PIN: 589-701-693\n",
            " * Serving Flask app \"xapp\" (lazy loading)\n",
            " * Environment: production\n",
            "\u001b[31m   WARNING: This is a development server. Do not use it in a production deployment.\u001b[0m\n",
            "\u001b[2m   Use a production WSGI server instead.\u001b[0m\n",
            " * Debug mode: on\n",
            "Running on http://127.0.0.1:8050/\n",
            "Debugger PIN: 615-570-673\n"
          ],
          "name": "stdout"
        }
      ]
    }
  ]
}